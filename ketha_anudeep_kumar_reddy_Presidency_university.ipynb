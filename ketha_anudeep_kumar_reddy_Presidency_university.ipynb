{
  "cells": [
    {
      "cell_type": "markdown",
      "metadata": {
        "id": "view-in-github",
        "colab_type": "text"
      },
      "source": [
        "<a href=\"https://colab.research.google.com/github/Kethaanudeep/exeter-coding-challenge/blob/main/ketha_anudeep_kumar_reddy_Presidency_university.ipynb\" target=\"_parent\"><img src=\"https://colab.research.google.com/assets/colab-badge.svg\" alt=\"Open In Colab\"/></a>"
      ]
    },
    {
      "cell_type": "markdown",
      "source": [
        "**KETHA ANUDEEP KUMAR REDDY**\n",
        "\n",
        "**PRESIDENCY UNIVERSITY**"
      ],
      "metadata": {
        "id": "H2M7ca0Ax4Sq"
      }
    },
    {
      "cell_type": "code",
      "execution_count": 17,
      "metadata": {
        "id": "pVgDq4apsKC-"
      },
      "outputs": [],
      "source": [
        "#importing libraries\n",
        "import csv\n",
        "import re\n",
        "import time\n",
        "import psutil"
      ]
    },
    {
      "cell_type": "code",
      "execution_count": null,
      "metadata": {
        "id": "7WQvxVgTssr8"
      },
      "outputs": [],
      "source": [
        "# Read the input files\n",
        "with open('find_words.txt', 'r') as f:\n",
        "    find_words = set(word.strip() for word in f.readlines())\n",
        "\n",
        "with open('french_dictionary.csv', 'r') as f:\n",
        "    reader = csv.reader(f)\n",
        "    french_dict = {rows[0]:rows[1] for rows in reader}\n",
        "\n",
        "with open('t8.shakespeare.txt', 'r') as f:\n",
        "    text = f.read()"
      ]
    },
    {
      "cell_type": "code",
      "execution_count": 14,
      "metadata": {
        "id": "Pq8LzlFQs4nG"
      },
      "outputs": [],
      "source": [
        "# Replace words and count frequency\n",
        "replaced_words = {}\n",
        "for word in find_words:\n",
        "    if word in french_dict:\n",
        "        pattern = r'\\b{}\\b'.format(word)\n",
        "        count = len(re.findall(pattern, text))\n",
        "        text = re.sub(pattern, french_dict[word], text)\n",
        "        replaced_words[word] = [french_dict[word], count]"
      ]
    },
    {
      "cell_type": "code",
      "execution_count": 15,
      "metadata": {
        "id": "KrR8SctWuavZ"
      },
      "outputs": [],
      "source": [
        "# Write the output files\n",
        "with open('frequency.csv', 'w') as f:\n",
        "    writer = csv.writer(f)\n",
        "    writer.writerow(['English word', 'French word', 'Frequency'])\n",
        "    for word, info in replaced_words.items():\n",
        "        writer.writerow([word, info[0], info[1]])\n",
        "\n",
        "with open('t8.shakespeare.translated.txt', 'w') as f:\n",
        "    f.write(text)"
      ]
    },
    {
      "cell_type": "code",
      "execution_count": 16,
      "metadata": {
        "id": "WBHOdUlDufDW"
      },
      "outputs": [],
      "source": [
        "# Write the performance file\n",
        "memory_usage = psutil.Process().memory_info().rss / 1024 / 1024\n",
        "with open('performance.txt', 'w') as f:\n",
        "    f.write('Time to process: {} minutes {} seconds\\n'.format(*divmod(time.process_time(), 60)))\n",
        "    f.write('Memory used: {:.2f} MB'.format(memory_usage))"
      ]
    }
  ],
  "metadata": {
    "colab": {
      "provenance": [],
      "authorship_tag": "ABX9TyOaiV9sIBmZTYXDpBwJ+SYV",
      "include_colab_link": true
    },
    "kernelspec": {
      "display_name": "Python 3",
      "name": "python3"
    },
    "language_info": {
      "name": "python"
    }
  },
  "nbformat": 4,
  "nbformat_minor": 0
}